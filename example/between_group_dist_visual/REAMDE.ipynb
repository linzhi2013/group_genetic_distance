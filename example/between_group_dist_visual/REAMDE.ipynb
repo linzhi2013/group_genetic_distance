{
 "cells": [
  {
   "cell_type": "code",
   "execution_count": 1,
   "metadata": {},
   "outputs": [],
   "source": [
    "import seaborn as sns"
   ]
  },
  {
   "cell_type": "code",
   "execution_count": 2,
   "metadata": {},
   "outputs": [],
   "source": [
    "import numpy as np"
   ]
  },
  {
   "cell_type": "code",
   "execution_count": 12,
   "metadata": {},
   "outputs": [],
   "source": [
    "import pandas as pd"
   ]
  },
  {
   "cell_type": "code",
   "execution_count": 138,
   "metadata": {},
   "outputs": [],
   "source": [
    "import matplotlib.pyplot as plt"
   ]
  },
  {
   "cell_type": "code",
   "execution_count": 14,
   "metadata": {},
   "outputs": [],
   "source": [
    "df = pd.read_csv('Neodon_nuclear_mean_distance.csv')"
   ]
  },
  {
   "cell_type": "code",
   "execution_count": null,
   "metadata": {},
   "outputs": [],
   "source": [
    "df = pd.read_csv"
   ]
  },
  {
   "cell_type": "code",
   "execution_count": 15,
   "metadata": {},
   "outputs": [
    {
     "data": {
      "text/html": [
       "<div>\n",
       "<style scoped>\n",
       "    .dataframe tbody tr th:only-of-type {\n",
       "        vertical-align: middle;\n",
       "    }\n",
       "\n",
       "    .dataframe tbody tr th {\n",
       "        vertical-align: top;\n",
       "    }\n",
       "\n",
       "    .dataframe thead th {\n",
       "        text-align: right;\n",
       "    }\n",
       "</style>\n",
       "<table border=\"1\" class=\"dataframe\">\n",
       "  <thead>\n",
       "    <tr style=\"text-align: right;\">\n",
       "      <th></th>\n",
       "      <th>sp1</th>\n",
       "      <th>sp2</th>\n",
       "      <th>mean</th>\n",
       "    </tr>\n",
       "  </thead>\n",
       "  <tbody>\n",
       "    <tr>\n",
       "      <th>0</th>\n",
       "      <td>Neodon_bomiensis</td>\n",
       "      <td>Neodon_bershulaensis</td>\n",
       "      <td>0.0025</td>\n",
       "    </tr>\n",
       "    <tr>\n",
       "      <th>1</th>\n",
       "      <td>Neodon_bomiensis</td>\n",
       "      <td>Neodon_clarkei</td>\n",
       "      <td>0.0017</td>\n",
       "    </tr>\n",
       "    <tr>\n",
       "      <th>2</th>\n",
       "      <td>Neodon_bomiensis</td>\n",
       "      <td>Neodon_forresti</td>\n",
       "      <td>0.0053</td>\n",
       "    </tr>\n",
       "    <tr>\n",
       "      <th>3</th>\n",
       "      <td>Neodon_bomiensis</td>\n",
       "      <td>Neodon_irene</td>\n",
       "      <td>0.0043</td>\n",
       "    </tr>\n",
       "    <tr>\n",
       "      <th>4</th>\n",
       "      <td>Neodon_bomiensis</td>\n",
       "      <td>Neodon_linzhiensis</td>\n",
       "      <td>0.0054</td>\n",
       "    </tr>\n",
       "  </tbody>\n",
       "</table>\n",
       "</div>"
      ],
      "text/plain": [
       "                sp1                   sp2    mean\n",
       "0  Neodon_bomiensis  Neodon_bershulaensis  0.0025\n",
       "1  Neodon_bomiensis        Neodon_clarkei  0.0017\n",
       "2  Neodon_bomiensis       Neodon_forresti  0.0053\n",
       "3  Neodon_bomiensis          Neodon_irene  0.0043\n",
       "4  Neodon_bomiensis    Neodon_linzhiensis  0.0054"
      ]
     },
     "execution_count": 15,
     "metadata": {},
     "output_type": "execute_result"
    }
   ],
   "source": [
    "df.head()"
   ]
  },
  {
   "cell_type": "code",
   "execution_count": null,
   "metadata": {},
   "outputs": [],
   "source": [
    "for row in df.iterrows():\n",
    "    print(row[1][2])"
   ]
  },
  {
   "cell_type": "code",
   "execution_count": 83,
   "metadata": {},
   "outputs": [],
   "source": [
    "def df2dict_threeColumns(df=None, self2self=0):\n",
    "    k1_k2_val = {}\n",
    "    for row in df.iterrows():\n",
    "        k1, k2, val = row[1]\n",
    "        \n",
    "        if k1 not in k1_k2_val:\n",
    "            k1_k2_val.setdefault(k1, {})\n",
    "        k1_k2_val[k1][k2] = float(val)\n",
    "        k1_k2_val[k1][k1] = float(self2self)\n",
    "        \n",
    "        if k2 not in k1_k2_val:\n",
    "            k1_k2_val.setdefault(k2, {})\n",
    "        k1_k2_val[k2][k1] = float(val)\n",
    "        k1_k2_val[k2][k2] = float(self2self)\n",
    "\n",
    "    return k1_k2_val"
   ]
  },
  {
   "cell_type": "code",
   "execution_count": 84,
   "metadata": {},
   "outputs": [],
   "source": [
    "a = df2dict_threeColumns(df)"
   ]
  },
  {
   "cell_type": "code",
   "execution_count": 85,
   "metadata": {},
   "outputs": [],
   "source": [
    "spp = sorted(a.keys())"
   ]
  },
  {
   "cell_type": "code",
   "execution_count": 130,
   "metadata": {},
   "outputs": [],
   "source": [
    "spp_clade_ordered = ['Neodon_leucurus',\n",
    " 'Neodon_fuscus']"
   ]
  },
  {
   "cell_type": "code",
   "execution_count": 129,
   "metadata": {},
   "outputs": [],
   "source": [
    "def dict2matrix(k1_k2_val=None, file=None, keys=None):\n",
    "    if not keys:\n",
    "        spp = sorted(k1_k2_val.keys())\n",
    "    else:\n",
    "        spp = keys\n",
    "    print('Values', '\\t'.join(spp), sep='\\t',file=fhout)\n",
    "    for k1 in spp:\n",
    "        print(k1, end='', file=fhout)\n",
    "        for k2 in spp:\n",
    "            print('\\t', k1_k2_val[k1][k2], sep='', end='', file=fhout)\n",
    "        print(file=fhout)"
   ]
  },
  {
   "cell_type": "code",
   "execution_count": 131,
   "metadata": {},
   "outputs": [],
   "source": [
    "with open('matrix.tbl', 'w') as fhout:\n",
    "    dict2matrix(a, file=fhout, keys=spp_clade_ordered)"
   ]
  },
  {
   "cell_type": "code",
   "execution_count": 133,
   "metadata": {},
   "outputs": [],
   "source": [
    "df2 = pd.read_table('matrix.tbl')"
   ]
  },
  {
   "cell_type": "code",
   "execution_count": 134,
   "metadata": {},
   "outputs": [],
   "source": [
    "df3 = df2.set_index('Values')"
   ]
  },
  {
   "cell_type": "code",
   "execution_count": null,
   "metadata": {},
   "outputs": [],
   "source": [
    "fig = plt.figure(figsize=(10,8))\n",
    "ax = sns.heatmap(df3, cmap='YlGnBu', annot=False)\n",
    "fig.tight_layout()\n",
    "ax.figure.savefig('Neodon_nuclear_dist.pdf')"
   ]
  },
  {
   "cell_type": "code",
   "execution_count": null,
   "metadata": {},
   "outputs": [],
   "source": [
    "fig = plt.figure(figsize=(15,13))\n",
    "ax = sns.heatmap(df3, cmap='YlGnBu', annot=True)\n",
    "ax.set_title('Nuclear genetic distance')\n",
    "fig.tight_layout()\n",
    "ax.figure.savefig('Neodon_nuclear_dist_values.pdf')\n"
   ]
  },
  {
   "cell_type": "code",
   "execution_count": null,
   "metadata": {},
   "outputs": [],
   "source": []
  }
 ],
 "metadata": {
  "kernelspec": {
   "display_name": "Python 3",
   "language": "python",
   "name": "python3"
  },
  "language_info": {
   "codemirror_mode": {
    "name": "ipython",
    "version": 3
   },
   "file_extension": ".py",
   "mimetype": "text/x-python",
   "name": "python",
   "nbconvert_exporter": "python",
   "pygments_lexer": "ipython3",
   "version": "3.8.3"
  }
 },
 "nbformat": 4,
 "nbformat_minor": 4
}
